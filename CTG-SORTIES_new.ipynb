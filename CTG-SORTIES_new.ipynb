{
 "cells": [
  {
   "cell_type": "code",
   "execution_count": null,
   "id": "ed7f1c55-ee52-428e-985f-83c747960de3",
   "metadata": {},
   "outputs": [],
   "source": [
    "year = 2024"
   ]
  },
  {
   "cell_type": "markdown",
   "id": "cba2d79d-6a99-4a04-96c8-0bca063164be",
   "metadata": {},
   "source": [
    "# Sortie du jeudi"
   ]
  },
  {
   "cell_type": "code",
   "execution_count": null,
   "id": "5345300c",
   "metadata": {
    "scrolled": true
   },
   "outputs": [],
   "source": [
    "from pathlib import Path\n",
    "\n",
    "import matplotlib.pyplot as plt \n",
    "\n",
    "import CTG_Utils as ctg\n",
    "\n",
    "path_sorties_jeudi =  Path(r'C:\\Users\\franc\\CTG') / Path(str(year)) / Path('SORTIES DU JEUDI')\n",
    "file_label =  Path(r'C:\\Users\\franc\\CTG') / Path(str(year)) / Path(r'DATA/info_randos.yaml')    \n",
    "df_total = ctg.stat_sorties_club(path_sorties_jeudi,(0,45),file_label,year)"
   ]
  },
  {
   "cell_type": "markdown",
   "id": "7274784e",
   "metadata": {},
   "source": [
    "# Sortie d'hiver"
   ]
  },
  {
   "cell_type": "code",
   "execution_count": null,
   "id": "5fb3e5ee",
   "metadata": {},
   "outputs": [],
   "source": [
    "from pathlib import Path\n",
    "import os\n",
    "\n",
    "import matplotlib.pyplot as plt \n",
    "\n",
    "import CTG_Utils as ctg\n",
    "\n",
    "path_sorties_hiver =  Path(r'C:\\Users\\franc\\CTG') / Path(str(year)) / Path('SORTIES HIVER' )\n",
    "\n",
    "if len(os.listdir(path_sorties_hiver / Path('CSV'))) > 0:\n",
    "    file_label =  Path(r'C:\\Users\\franc\\CTG') / Path(str(year)) / Path(r'DATA/info_randos.yaml')\n",
    "    _ = ctg.stat_sorties_club(path_sorties_hiver,(0,35),file_label,str(year))\n",
    "else:\n",
    "    print('pas de sorties')\n",
    "\n"
   ]
  },
  {
   "cell_type": "markdown",
   "id": "72eb4981",
   "metadata": {},
   "source": [
    "# Sortie du samedi"
   ]
  },
  {
   "cell_type": "code",
   "execution_count": null,
   "id": "9cbc50d1",
   "metadata": {},
   "outputs": [],
   "source": [
    "from pathlib import Path\n",
    "\n",
    "import matplotlib.pyplot as plt\n",
    "\n",
    "import CTG_Utils as ctg\n",
    "\n",
    "\n",
    "path_sorties_samedi =  Path(r'C:\\Users\\franc\\CTG') / Path(str(year)) / Path('SORTIES DU SAMEDI' )\n",
    "file_label =  Path(r'C:\\Users\\franc\\CTG') / Path(str(year)) / Path(r'DATA/info_randos.yaml')                                                                           \n",
    "\n",
    "_ = ctg.stat_sorties_club(path_sorties_samedi,(0,90),file_label,str(year))\n"
   ]
  },
  {
   "cell_type": "markdown",
   "id": "54301723",
   "metadata": {},
   "source": [
    "# Sortie du dimanche"
   ]
  },
  {
   "cell_type": "code",
   "execution_count": null,
   "id": "0d389ca7",
   "metadata": {
    "scrolled": true
   },
   "outputs": [],
   "source": [
    "from pathlib import Path\n",
    "\n",
    "import CTG_Utils as ctg\n",
    "\n",
    "\n",
    "path_sorties_dimanche =  Path(r'C:\\Users\\franc\\CTG') / Path(str(year)) / Path('SORTIES DU DIMANCHE' )\n",
    "file_label =  Path(r'C:\\Users\\franc\\CTG') / Path(str(year)) / Path(r'DATA/info_randos.yaml') \n",
    "\n",
    "_ = ctg.stat_sorties_club(path_sorties_dimanche,(0,50),file_label,str(year))"
   ]
  },
  {
   "cell_type": "markdown",
   "id": "485e256c-b8b6-4918-a354-b3f3b2fe4e4d",
   "metadata": {},
   "source": [
    "# Sorties de derniere minute"
   ]
  },
  {
   "cell_type": "code",
   "execution_count": null,
   "id": "8e37bb1c-1f5e-41e1-8078-62d60f380c9d",
   "metadata": {},
   "outputs": [],
   "source": [
    "from pathlib import Path\n",
    "\n",
    "import CTG_Utils as ctg\n",
    "\n",
    "\n",
    "path_sorties_derniere_minute =  Path(r'C:\\Users\\franc\\CTG') / Path(str(year)) / Path('SORTIES DE DERNIERE MINUTE' )\n",
    "file_label =  Path(r'C:\\Users\\franc\\CTG') / Path(str(year)) / Path(r'DATA/info_randos.yaml') \n",
    "\n",
    "_ = ctg.stat_sorties_club(path_sorties_derniere_minute,(0,10),file_label,str(year))"
   ]
  },
  {
   "cell_type": "markdown",
   "id": "33c1d06d",
   "metadata": {},
   "source": [
    "# Séjour"
   ]
  },
  {
   "cell_type": "code",
   "execution_count": null,
   "id": "c5486991",
   "metadata": {},
   "outputs": [],
   "source": [
    "# Standard library imports\n",
    "from pathlib import Path\n",
    "\n",
    "# 3rd party imports\n",
    "import pandas as pd\n",
    "\n",
    "# Internal import\n",
    "import CTG_Utils as ctg\n",
    "\n",
    "path_sejours =  Path(r'C:\\Users\\franc\\CTG') / Path(str(year)) / Path('SEJOUR' )\n",
    "\n",
    "file_label =  Path(r'C:\\Users\\franc\\CTG') / Path(str(year)) / Path(r'DATA/info_randos.yaml') \n",
    "\n",
    "df_total = ctg.stat_sorties_club(path_sejours,(0,120),file_label,str(year))\n"
   ]
  },
  {
   "cell_type": "markdown",
   "id": "f379b67e",
   "metadata": {},
   "source": [
    "# Synthese sorties séjours"
   ]
  },
  {
   "cell_type": "code",
   "execution_count": null,
   "id": "d3b51aba-78c3-4ae0-ac6e-aec9ce928355",
   "metadata": {},
   "outputs": [],
   "source": [
    "import CTG_Utils as ctg\n",
    "ctg.synthese(year)"
   ]
  },
  {
   "cell_type": "markdown",
   "id": "5a5f34b9-b771-4940-bdd9-13c1c3b7db81",
   "metadata": {},
   "source": [
    "# Synthese par adhérent"
   ]
  },
  {
   "cell_type": "code",
   "execution_count": null,
   "id": "47f63a0e-e2ae-4d6e-b38e-fe2a4e4e185c",
   "metadata": {},
   "outputs": [],
   "source": [
    "import CTG_Utils as ctg\n",
    "ctg.synthese_adherent(year)\n"
   ]
  },
  {
   "cell_type": "markdown",
   "id": "9e9c2ee0-6d94-4885-b169-e35d8bcf6937",
   "metadata": {},
   "source": [
    " # Synthese randonnees"
   ]
  },
  {
   "cell_type": "code",
   "execution_count": null,
   "id": "d4694e51-8bfc-4c24-a598-61ce4127d4b6",
   "metadata": {},
   "outputs": [],
   "source": [
    "import CTG_Utils as ctg\n",
    "ctg.synthese_randonnee(year)"
   ]
  },
  {
   "cell_type": "code",
   "execution_count": null,
   "id": "9f21081e-332c-45d6-8758-00ba296b9896",
   "metadata": {},
   "outputs": [],
   "source": [
    "import CTG_Utils as ctg\n",
    "ctg.evolution_sorties ('nbr_sejours')# ('jours_sejour') #('randonnee' ) # 'sortie_dimanche_club' 'sortie_samedi_club' 'sortie_jeudi_club' 'randonnee' "
   ]
  },
  {
   "cell_type": "code",
   "execution_count": null,
   "id": "bcf695d1-9cf3-430a-87c8-f36226f6a791",
   "metadata": {},
   "outputs": [],
   "source": [
    "import CTG_Utils as ctg\n",
    "\n",
    "ctg.nbr_sejours_adherent(year)"
   ]
  },
  {
   "cell_type": "code",
   "execution_count": null,
   "id": "e6979dba-5c76-40c5-b0e2-094782b35267",
   "metadata": {},
   "outputs": [],
   "source": []
  }
 ],
 "metadata": {
  "kernelspec": {
   "display_name": "CTG_ker",
   "language": "python",
   "name": "ctg_ker"
  },
  "language_info": {
   "codemirror_mode": {
    "name": "ipython",
    "version": 3
   },
   "file_extension": ".py",
   "mimetype": "text/x-python",
   "name": "python",
   "nbconvert_exporter": "python",
   "pygments_lexer": "ipython3",
   "version": "3.9.7"
  },
  "latex_envs": {
   "LaTeX_envs_menu_present": true,
   "autoclose": false,
   "autocomplete": true,
   "bibliofile": "biblio.bib",
   "cite_by": "apalike",
   "current_citInitial": 1,
   "eqLabelWithNumbers": true,
   "eqNumInitial": 1,
   "hotkeys": {
    "equation": "Ctrl-E",
    "itemize": "Ctrl-I"
   },
   "labels_anchors": false,
   "latex_user_defs": false,
   "report_style_numbering": false,
   "user_envs_cfg": false
  },
  "varInspector": {
   "cols": {
    "lenName": 16,
    "lenType": 16,
    "lenVar": 40
   },
   "kernels_config": {
    "python": {
     "delete_cmd_postfix": "",
     "delete_cmd_prefix": "del ",
     "library": "var_list.py",
     "varRefreshCmd": "print(var_dic_list())"
    },
    "r": {
     "delete_cmd_postfix": ") ",
     "delete_cmd_prefix": "rm(",
     "library": "var_list.r",
     "varRefreshCmd": "cat(var_dic_list()) "
    }
   },
   "types_to_exclude": [
    "module",
    "function",
    "builtin_function_or_method",
    "instance",
    "_Feature"
   ],
   "window_display": false
  }
 },
 "nbformat": 4,
 "nbformat_minor": 5
}
