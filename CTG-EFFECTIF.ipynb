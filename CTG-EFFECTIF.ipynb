{
 "cells": [
  {
   "cell_type": "markdown",
   "id": "54100ef3",
   "metadata": {},
   "source": [
    "# Analyse effectif"
   ]
  },
  {
   "cell_type": "code",
   "execution_count": null,
   "id": "487f702f-59ec-4a97-90ec-fcd9cffdbcca",
   "metadata": {},
   "outputs": [],
   "source": [
    "from CTG_Utils.CTGClasses import EffectifCtg\n",
    "year = 2024\n",
    "\n",
    "effectif_n = EffectifCtg(year-1)\n",
    "effectif_n_plus1 = EffectifCtg(year)\n",
    "nouveaux_licenciés = set(effectif_n_plus1.effectif[\"N° Licencié\"])-set(effectif_n.effectif[\"N° Licencié\"])\n",
    "licencies_non_renouvelles = set(effectif_n.effectif[\"N° Licencié\"]) - set(effectif_n_plus1.effectif[\"N° Licencié\"])\n",
    "moy_age_entrants = effectif_n_plus1.effectif[effectif_n_plus1.effectif['N° Licencié'].isin(nouveaux_licenciés)]['Age'].mean() + 1\n",
    "moy_age_sortants = effectif_n.effectif[effectif_n.effectif['N° Licencié'].isin(licencies_non_renouvelles)]['Age'].mean()\n",
    "print(f\"{len(nouveaux_licenciés)} nouveaux licenciés de moyenne d'âge de {round(moy_age_entrants,1)}\")\n",
    "print(f\"{len(licencies_non_renouvelles)} licences non renouvellées de moyenne d'âge de {round(moy_age_sortants,1)}\")\n",
    "print()\n",
    "\n",
    "effectif = EffectifCtg(year)\n",
    "effectif.stat()\n",
    "effectif.plot_histo()\n",
    "\n"
   ]
  },
  {
   "cell_type": "code",
   "execution_count": null,
   "id": "8a5153f1-7c10-4d63-9e05-6ae10986298b",
   "metadata": {},
   "outputs": [],
   "source": [
    "# présence au club\n",
    "\n",
    "import os\n",
    "import re\n",
    "from pathlib import Path\n",
    "\n",
    "import pandas as pd\n",
    "\n",
    "import CTG_Utils as ctg\n",
    "\n",
    "list_date = [int(x) for x in os.listdir(ctg.GLOBAL['ROOT']) if re.findall('^\\d{4}$',x)]\n",
    "list_df = []\n",
    "\n",
    "for date in list_date:\n",
    "    df = pd.read_excel(Path(ctg.GLOBAL['ROOT']) /Path(str(date)) / Path('DATA') / Path(str(date)+'.xlsx'))\n",
    "    df['date'] = date\n",
    "    list_df.append(df[['N° Licencié','Nom','Prénom','date']])\n",
    "    \n",
    "df = pd.concat(list_df) #.to_excel(file / Path('effectif_total.xlsx'),index=False)\n",
    "\n",
    "dic = {}\n",
    "list_num_licence = []\n",
    "list_nom = []\n",
    "list_prenom = []\n",
    "list_date_ = []\n",
    "for licence in df.groupby('N° Licencié'):\n",
    "    list_c = [x if x in licence[1]['date'].to_list() else None for x in list_date]\n",
    "    #if len(list_c) - list_c.count(None) == 1: singleton\n",
    "    list_num_licence.append(licence[0])\n",
    "    list_nom.append(licence[1]['Nom'].unique()[0])\n",
    "    list_prenom.append(licence[1]['Prénom'].unique()[0])\n",
    "    list_date_.append(list_c)\n",
    "\n",
    "    \n",
    "dic['N° Licencié'] = list_num_licence\n",
    "dic['Nom'] = list_nom\n",
    "dic['Prénom'] = list_prenom\n",
    "dic['date'] = list_date_\n",
    "\n",
    "df = pd.DataFrame.from_dict(dic)\n",
    "split_df = pd.DataFrame(df['date'].tolist(), columns=list_date)\n",
    "\n",
    "df = pd.concat([df, split_df], axis=1)\n",
    "df = df.drop('date',axis=1)\n",
    "out_path = Path(ctg.GLOBAL['ROOT']) / Path(str(list_date[-1])) / Path('DATA') / Path('effectif_total.xlsx')\n",
    "df.to_excel(out_path)"
   ]
  },
  {
   "cell_type": "markdown",
   "id": "092429a5",
   "metadata": {},
   "source": [
    "# Evolution des effectifs"
   ]
  },
  {
   "cell_type": "code",
   "execution_count": null,
   "id": "bf3f4a97",
   "metadata": {
    "scrolled": true
   },
   "outputs": [],
   "source": [
    "from CTG_Utils.CTG_effectif import evolution_effectif\n",
    "\n",
    "evolution_effectif()"
   ]
  },
  {
   "cell_type": "markdown",
   "id": "0ed60441-f676-4681-9930-e4985ef688f1",
   "metadata": {},
   "source": [
    "# Evolution de l'âge moyen CTG"
   ]
  },
  {
   "cell_type": "code",
   "execution_count": null,
   "id": "3ad18af5-141e-4b72-a2a0-b60478e81c5d",
   "metadata": {},
   "outputs": [],
   "source": [
    "from CTG_Utils.CTG_effectif import evolution_age_median\n",
    "evolution_age_median()"
   ]
  },
  {
   "cell_type": "markdown",
   "id": "ba85264d",
   "metadata": {},
   "source": [
    "# Tracé localisation géographique des adhérents CTG\n"
   ]
  },
  {
   "cell_type": "code",
   "execution_count": null,
   "id": "3a644b34",
   "metadata": {},
   "outputs": [],
   "source": [
    "from pathlib import Path\n",
    "\n",
    "import pandas as pd\n",
    "\n",
    "import CTG_Utils as ctg\n",
    "\n",
    "year = 2024\n",
    "\n",
    "df_effectif = pd.read_excel(ctg.GLOBAL['ROOT'] / Path(str(year)) / Path('DATA')/ Path(str(year)+'.xlsx'))\n",
    "kol = ctg.plot_ctg(df_effectif)\n",
    "\n",
    "kol.save(Path(ctg.GLOBAL[\"ROOT\"]) / Path(str(year)) / Path('STATISTIQUES') / Path(\"ctg.html\"))\n",
    "kol"
   ]
  },
  {
   "cell_type": "markdown",
   "id": "9817f0fb",
   "metadata": {},
   "source": [
    "# Statistique VAE"
   ]
  },
  {
   "cell_type": "code",
   "execution_count": null,
   "id": "be8d5039",
   "metadata": {},
   "outputs": [],
   "source": [
    "from pathlib import Path\n",
    "\n",
    "import matplotlib.pyplot as plt\n",
    "import pandas as pd\n",
    "\n",
    "# Internal import\n",
    "import CTG_Utils as ctg\n",
    "# function to add value labels\n",
    "def addlabels(x,y):\n",
    "    for i in range(1,len(x)):\n",
    "        plt.text(x[i]-0.2,y[i]+0.5,y[i],size=10)\n",
    "\n",
    "courant_year = 2024\n",
    "\n",
    "last_year = 2018\n",
    "years =[]\n",
    "nb_vae_m = []\n",
    "nb_vae_f = []\n",
    "nb_vae_tot = []\n",
    "for year in range(last_year,courant_year+1):\n",
    "    df_N1 = pd.read_excel(Path(ctg.GLOBAL['ROOT']) / Path(str(year)) / Path('DATA') /Path(str(year)+'.xlsx'))\n",
    "    years.append(year)\n",
    "    nb_vae_m.append(sum((df_N1['Pratique VAE'] == 'Oui') & (df_N1['Sexe'] == 'M')))\n",
    "    nb_vae_f.append(sum((df_N1['Pratique VAE'] == 'Oui') & (df_N1['Sexe'] == 'F')))\n",
    "    nb_vae_tot.append(sum((df_N1['Pratique VAE'] == 'Oui') & (df_N1['Sexe'] == 'F')) +\n",
    "                      sum((df_N1['Pratique VAE'] == 'Oui') & (df_N1['Sexe'] == 'M')))\n",
    "plt.bar(years, nb_vae_m,label= 'Homme')\n",
    "plt.bar(years, nb_vae_f,bottom=nb_vae_m,label= 'Femme')\n",
    "plt.tick_params(axis='x', labelsize=15)\n",
    "plt.tick_params(axis='y', labelsize=15)\n",
    "plt.ylabel('nombre de VAEs',size=15)\n",
    "plt.legend()\n",
    "plt.ylabel('nombre de VAE')\n",
    "addlabels(years, [x+y for x,y in zip(nb_vae_m,nb_vae_f)])\n",
    "print(nb_vae_tot)   "
   ]
  },
  {
   "cell_type": "code",
   "execution_count": null,
   "id": "5f1c8d72",
   "metadata": {},
   "outputs": [],
   "source": [
    "# Standard library imports\n",
    "from pathlib import Path\n",
    "import datetime\n",
    "\n",
    "# 3rd party imports\n",
    "import numpy as np\n",
    "import pandas as pd\n",
    "import yaml\n",
    "\n",
    "# Internal import\n",
    "from CTG_Utils.CTG_config import _config_ctg\n",
    "GLOBAL = _config_ctg()\n",
    "\n",
    "class effectif_corrige_ctg():\n",
    "    \n",
    "    '''Lecture du fichier effectif et correction\n",
    "    '''   \n",
    "        \n",
    "    def __init__(self,year=None):\n",
    "    \n",
    "        if year is not None:\n",
    "            file_effectif = str(year) + '.xlsx'\n",
    "        else:\n",
    "            currentDateTime = datetime.datetime.now()\n",
    "            date = currentDateTime.date()\n",
    "            year = date.strftime(\"%Y\")\n",
    "            file_effectif = year + '.xlsx'\n",
    "            \n",
    "        self.year = year\n",
    "\n",
    "        self.df_effectif = pd.read_excel(GLOBAL['ROOT']/ Path(str(self.year))/Path('DATA')/ Path(file_effectif))\n",
    "        self.df_effectif = self.df_effectif[['N° Licencié', 'Nom','Prénom','Sexe','Pratique VAE']]\n",
    "\n",
    "        self.correction_effectif()\n",
    "        \n",
    "        for num_licence in self.dic_correction_licence.keys():\n",
    "            idx = self.df_effectif[self.df_effectif[\"N° Licencié\"] == num_licence].index\n",
    "            self.df_effectif.loc[idx,'Prénom'] = self.dic_correction_licence[num_licence]['Prénom']\n",
    "            self.df_effectif.loc[idx,'Nom'] = self.dic_correction_licence[num_licence]['Nom']\n",
    "\n",
    "        prenom, nom, sexe = zip(*self.part_club)\n",
    "        part_club_dic = {'N° Licencié':list(range(len(self.part_club))), 'Prénom':prenom,'Nom':nom,'Sexe':sexe}\n",
    "        df_part_club = pd.DataFrame.from_dict(part_club_dic)\n",
    "        self.df_effectif = pd.concat([self.df_effectif, df_part_club], ignore_index=True, axis=0)\n",
    "\n",
    "        if self.list_non_licencie:\n",
    "            prenom, nom, sexe = zip(*self.list_non_licencie)\n",
    "            dict_non_licencie = {'N° Licencié':np.array(range(len(nom)))+10, 'Prénom':prenom,'Nom':nom,'Sexe':sexe}\n",
    "\n",
    "            df_non_licencie = pd.DataFrame.from_dict(dict_non_licencie)\n",
    "            self.df_effectif = pd.concat([df_effectif, df_non_licencie], ignore_index=True, axis=0)\n",
    "\n",
    "        self.df_effectif['Prénom1'] = self.df_effectif['Prénom'].str[0]\n",
    "        self.df_effectif['Prénom'] = self.df_effectif['Prénom'].str.replace(' ','-')\n",
    "        \n",
    "    def correction_effectif(self):\n",
    "        \n",
    "        '''Reads the yaml file located in ROOT/year/DATA \n",
    "        '''\n",
    "        path_cor_yaml = GLOBAL['ROOT'] / Path(str(self.year)) / Path('DATA') / Path('CTG_correction.yaml')\n",
    "\n",
    "        with open(path_cor_yaml, \"r\",encoding='utf8') as stream:\n",
    "            data_list_dict = yaml.safe_load(stream)\n",
    "\n",
    "        self.list_non_licencie  = []   \n",
    "        if data_list_dict['list_non_licencie']:\n",
    "            self.list_non_licencie = [(x.split(',')[0].strip(),x.split(',')[1].strip(),x.split(',')[2].strip())\n",
    "                                 for x in data_list_dict['list_non_licencie']]\n",
    "        self.part_club = [(x.split(',')[0].strip(),x.split(',')[1].strip(),x.split(',')[2].strip()) \n",
    "                             for x in data_list_dict['dic_part_club']]\n",
    "        self.dic_correction_licence = data_list_dict['dic_correction_licence']\n",
    "        self.dic_correction_licence = {list(x.keys())[0] : list(x.values())[0] for x in self.dic_correction_licence}\n",
    "           "
   ]
  }
 ],
 "metadata": {
  "kernelspec": {
   "display_name": "CTG_ker",
   "language": "python",
   "name": "ctg_ker"
  },
  "language_info": {
   "codemirror_mode": {
    "name": "ipython",
    "version": 3
   },
   "file_extension": ".py",
   "mimetype": "text/x-python",
   "name": "python",
   "nbconvert_exporter": "python",
   "pygments_lexer": "ipython3",
   "version": "3.9.7"
  },
  "latex_envs": {
   "LaTeX_envs_menu_present": true,
   "autoclose": false,
   "autocomplete": true,
   "bibliofile": "biblio.bib",
   "cite_by": "apalike",
   "current_citInitial": 1,
   "eqLabelWithNumbers": true,
   "eqNumInitial": 1,
   "hotkeys": {
    "equation": "Ctrl-E",
    "itemize": "Ctrl-I"
   },
   "labels_anchors": false,
   "latex_user_defs": false,
   "report_style_numbering": false,
   "user_envs_cfg": false
  },
  "varInspector": {
   "cols": {
    "lenName": 16,
    "lenType": 16,
    "lenVar": 40
   },
   "kernels_config": {
    "python": {
     "delete_cmd_postfix": "",
     "delete_cmd_prefix": "del ",
     "library": "var_list.py",
     "varRefreshCmd": "print(var_dic_list())"
    },
    "r": {
     "delete_cmd_postfix": ") ",
     "delete_cmd_prefix": "rm(",
     "library": "var_list.r",
     "varRefreshCmd": "cat(var_dic_list()) "
    }
   },
   "types_to_exclude": [
    "module",
    "function",
    "builtin_function_or_method",
    "instance",
    "_Feature"
   ],
   "window_display": false
  }
 },
 "nbformat": 4,
 "nbformat_minor": 5
}
